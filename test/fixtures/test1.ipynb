{
 "cells": [
  {
   "cell_type": "markdown",
   "metadata": {},
   "source": [
    "# Example notebook/python script\n",
    "\n",
    "Markdown cells appear as triple-quoted string literals that do not follow function or class\n",
    "definitions.\n",
    "\n",
    "The triple-quote must appear on its own line\n"
   ]
  },
  {
   "cell_type": "code",
   "execution_count": null,
   "metadata": {},
   "outputs": [],
   "source": [
    "# Code cells are denoted by \"#>\" at the beginning of a line\n",
    "#\n",
    "print 'Hello, world'\n",
    "\n"
   ]
  },
  {
   "cell_type": "code",
   "execution_count": null,
   "metadata": {},
   "outputs": [],
   "source": [
    "print 'O hai, hoomans'\n",
    "\n"
   ]
  },
  {
   "cell_type": "markdown",
   "metadata": {},
   "source": [
    "## Subsection\n",
    "I can $\\LaTeX$\n"
   ]
  }
 ],
 "metadata": {},
 "nbformat": 4,
 "nbformat_minor": 2
}
